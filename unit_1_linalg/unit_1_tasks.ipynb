{
 "cells": [
  {
   "cell_type": "markdown",
   "metadata": {},
   "source": [
    "# Нейронные сети\n",
    "\n",
    "https://stepik.org/course/401\n",
    "\n",
    "# _Задачи_"
   ]
  },
  {
   "cell_type": "markdown",
   "metadata": {},
   "source": [
    "## 1. Основы линейной алгебры"
   ]
  },
  {
   "cell_type": "markdown",
   "metadata": {},
   "source": [
    "### 1.7. Линейная алгебра в деле"
   ]
  },
  {
   "cell_type": "markdown",
   "metadata": {},
   "source": [
    "#### 1.7.1\n",
    "\n",
    "`?`\n",
    "\n",
    "Теперь давайте попробуем применить наши новые матричные формулы — сначала на игрушечном примере, который мы рассматривали пару видео назад.\n",
    "\n",
    "У нас есть набор данных: знания о длине тормозного пути и скорости для трёх автомобилей.\n",
    "\n",
    "\\begin{pmatrix} D & V \\\\ \\hline 10 & 60 \\\\ 7 & 50 \\\\ 12 & 75\\end{pmatrix}\n",
    "\n",
    " \n",
    "Напишите через запятую оценки коэффициентов линейной регрессии D на V, т.е. \\hat{\\beta}_0, \\hat{\\beta}_1 для модели D=\\beta_0+\\beta_1 V+\\varepsilonD=β V+ε с точностью до трёх знаков после точки.\n"
   ]
  },
  {
   "cell_type": "code",
   "execution_count": 1,
   "metadata": {},
   "outputs": [],
   "source": [
    "import numpy as np"
   ]
  },
  {
   "cell_type": "code",
   "execution_count": 2,
   "metadata": {},
   "outputs": [],
   "source": [
    "def add_beta_zero(B):\n",
    "    '''добавление единичного столбца для вычисления бета нулевого'''\n",
    "    return np.hstack([np.ones((len(B), 1)), B])\n",
    "\n",
    "def get_betas(X, Y):\n",
    "    '''(x.T * x) ^ -1 * x.T * y'''\n",
    "    return np.dot(np.linalg.inv(np.dot(X.T, X)), X.T @ Y)"
   ]
  },
  {
   "cell_type": "code",
   "execution_count": 3,
   "metadata": {},
   "outputs": [],
   "source": [
    "d = [10, 7, 12]\n",
    "v = [60, 50, 75]"
   ]
  },
  {
   "cell_type": "code",
   "execution_count": 4,
   "metadata": {},
   "outputs": [
    {
     "data": {
      "text/plain": [
       "array([[10],\n",
       "       [ 7],\n",
       "       [12]])"
      ]
     },
     "execution_count": 4,
     "metadata": {},
     "output_type": "execute_result"
    }
   ],
   "source": [
    "D = np.array(d).reshape(-1, 1)\n",
    "D"
   ]
  },
  {
   "cell_type": "code",
   "execution_count": 5,
   "metadata": {},
   "outputs": [
    {
     "data": {
      "text/plain": [
       "array([[60],\n",
       "       [50],\n",
       "       [75]])"
      ]
     },
     "execution_count": 5,
     "metadata": {},
     "output_type": "execute_result"
    }
   ],
   "source": [
    "V = np.array(v).reshape(-1, 1)\n",
    "V"
   ]
  },
  {
   "cell_type": "markdown",
   "metadata": {},
   "source": [
    "добавим в V единичный столбец для вычисления бета нулевого"
   ]
  },
  {
   "cell_type": "code",
   "execution_count": 6,
   "metadata": {},
   "outputs": [
    {
     "data": {
      "text/plain": [
       "array([[ 1., 60.],\n",
       "       [ 1., 50.],\n",
       "       [ 1., 75.]])"
      ]
     },
     "execution_count": 6,
     "metadata": {},
     "output_type": "execute_result"
    }
   ],
   "source": [
    "V = add_beta_zero(V)\n",
    "V"
   ]
  },
  {
   "cell_type": "code",
   "execution_count": 7,
   "metadata": {},
   "outputs": [
    {
     "data": {
      "text/plain": [
       "array([[-2.34210526],\n",
       "       [ 0.19473684]])"
      ]
     },
     "execution_count": 7,
     "metadata": {},
     "output_type": "execute_result"
    }
   ],
   "source": [
    "B = get_betas(V, D)\n",
    "B"
   ]
  },
  {
   "cell_type": "code",
   "execution_count": 8,
   "metadata": {},
   "outputs": [
    {
     "data": {
      "text/plain": [
       "-2.342"
      ]
     },
     "execution_count": 8,
     "metadata": {},
     "output_type": "execute_result"
    }
   ],
   "source": [
    "b0 = round(B[0][0], 3)\n",
    "b0"
   ]
  },
  {
   "cell_type": "code",
   "execution_count": 9,
   "metadata": {},
   "outputs": [
    {
     "data": {
      "text/plain": [
       "0.195"
      ]
     },
     "execution_count": 9,
     "metadata": {},
     "output_type": "execute_result"
    }
   ],
   "source": [
    "b1 = round(B[1][0], 3)\n",
    "b1"
   ]
  },
  {
   "cell_type": "code",
   "execution_count": 10,
   "metadata": {},
   "outputs": [
    {
     "data": {
      "text/plain": [
       "'-2.342, 0.195'"
      ]
     },
     "execution_count": 10,
     "metadata": {},
     "output_type": "execute_result"
    }
   ],
   "source": [
    "result = f'{b0}, {b1}'\n",
    "result"
   ]
  },
  {
   "cell_type": "markdown",
   "metadata": {},
   "source": [
    "#### 1.7.2\n",
    "\n",
    "`>_`\n",
    "\n",
    "Найдите оптимальные коэффициенты для построения линейной регрессии.\n",
    "\n",
    "На вход вашему решению будет подано название csv-файла, из которого нужно считать данные. Пример можно посмотреть [здесь](https://stepik.org/media/attachments/lesson/16462/boston_houses.csv). Загрузить их можно следующим образом:\n",
    "```\n",
    "fname = input()  # read file name from stdin\n",
    "f = urllib.request.urlopen(fname)  # open file from URL\n",
    "data = np.loadtxt(f, delimiter=',', skiprows=1)  # load data to work with\n",
    "```\n",
    "\n",
    "Ваша задача — подсчитать вектор коэффициентов линейной регрессии для предсказания первой переменной (первого столбца данных) по всем остальным. Напомним, что модель линейной регрессии — это y = β0 + β1 x1 + ... + βn xn \n",
    "\n",
    "\n",
    "Напечатайте коэффициенты линейной регрессии, начиная с β0, через пробел. Мы будем проверять совпадения с точностью до 4 знаков после запятой.\n",
    "\n",
    "Методы и приёмы, которые мы ещё не упоминали и которые могут вам помочь в процессе решения (могут являться подсказками!):\n",
    "```\n",
    "np.hstack((array1, array2, ...))  # склеивает по строкам массивы, являющиеся компонентами кортежа, поданного на вход; массивы должны совпадать по всем измерениям, кроме второго\n",
    "np.ones_like(array)  # создаёт массив, состоящий из единиц, идентичный по форме массиву array\n",
    "\"delim\".join(array)  # возвращает строку, состоящую из элементов array, разделённых символами \"delim\"\n",
    "map(str, array)  # применяет функцию str к каждому элементу array\n",
    "```\n"
   ]
  },
  {
   "cell_type": "code",
   "execution_count": 11,
   "metadata": {},
   "outputs": [],
   "source": [
    "from urllib import request\n",
    "\n",
    "#fname = input()  # read file name from stdin\n",
    "fname = 'https://stepic.org/media/attachments/lesson/16462/boston_houses.csv'\n",
    "\n",
    "f = request.urlopen(fname)\n",
    "data = np.loadtxt(f, delimiter=',', skiprows=1)"
   ]
  },
  {
   "cell_type": "code",
   "execution_count": 12,
   "metadata": {},
   "outputs": [],
   "source": [
    "Y = data[:, 0].reshape(-1, 1)"
   ]
  },
  {
   "cell_type": "code",
   "execution_count": 13,
   "metadata": {},
   "outputs": [
    {
     "data": {
      "text/plain": [
       "array([[24. , 21.6, 34.7, 33.4, 36.2, 28.7, 22.9, 27.1, 16.5, 18.9, 15. ,\n",
       "        18.9, 21.7, 20.4, 18.2, 19.9, 23.1, 17.5, 20.2, 18.2, 13.6, 19.6,\n",
       "        15.2, 14.5, 15.6, 13.9, 16.6, 14.8, 18.4, 21. , 12.7, 14.5, 13.2,\n",
       "        13.1, 13.5, 18.9, 20. , 21. , 24.7, 30.8, 34.9, 26.6, 25.3, 24.7,\n",
       "        21.2, 19.3, 20. , 16.6, 14.4, 19.4, 19.7, 20.5, 25. , 23.4, 18.9,\n",
       "        35.4, 24.7, 31.6, 23.3, 19.6, 18.7, 16. , 22.2, 25. , 33. , 23.5,\n",
       "        19.4, 22. , 17.4, 20.9, 24.2, 21.7, 22.8, 23.4, 24.1, 21.4, 20. ,\n",
       "        20.8, 21.2, 20.3, 28. , 23.9, 24.8, 22.9, 23.9, 26.6, 22.5, 22.2,\n",
       "        23.6, 28.7, 22.6, 22. , 22.9, 25. , 20.6, 28.4, 21.4, 38.7, 43.8,\n",
       "        33.2, 27.5, 26.5, 18.6, 19.3, 20.1, 19.5, 19.5, 20.4, 19.8, 19.4,\n",
       "        21.7, 22.8, 18.8, 18.7, 18.5, 18.3, 21.2, 19.2, 20.4, 19.3, 22. ,\n",
       "        20.3, 20.5, 17.3, 18.8, 21.4, 15.7, 16.2, 18. , 14.3, 19.2, 19.6,\n",
       "        23. , 18.4, 15.6, 18.1, 17.4, 17.1, 13.3, 17.8, 14. , 14.4, 13.4,\n",
       "        15.6, 11.8, 13.8, 15.6, 14.6, 17.8, 15.4, 21.5, 19.6, 15.3, 19.4,\n",
       "        17. , 15.6, 13.1, 41.3, 24.3, 23.3, 27. , 50. , 50. , 50. , 22.7,\n",
       "        25. , 50. , 23.8, 23.8, 22.3, 17.4, 19.1, 23.1, 23.6, 22.6, 29.4,\n",
       "        23.2, 24.6, 29.9, 37.2, 39.8, 36.2, 37.9, 32.5, 26.4, 29.6, 50. ,\n",
       "        32. , 29.8, 34.9, 37. , 30.5, 36.4, 31.1, 29.1, 50. , 33.3, 30.3,\n",
       "        34.6, 34.9, 32.9, 24.1, 42.3, 48.5, 50. , 22.6, 24.4, 22.5, 24.4,\n",
       "        20. , 21.7, 19.3, 22.4, 28.1, 23.7, 25. , 23.3, 28.7, 21.5, 23. ,\n",
       "        26.7, 21.7, 27.5, 30.1, 44.8, 50. , 37.6, 31.6, 46.7, 31.5, 24.3,\n",
       "        31.7, 41.7, 48.3, 29. , 24. , 25.1, 31.5, 23.7, 23.3, 22. , 20.1,\n",
       "        22.2, 23.7, 17.6, 18.5, 24.3, 20.5, 24.5, 26.2, 24.4, 24.8, 29.6,\n",
       "        42.8, 21.9, 20.9, 44. , 50. , 36. , 30.1, 33.8, 43.1, 48.8, 31. ,\n",
       "        36.5, 22.8, 30.7, 50. , 43.5, 20.7, 21.1, 25.2, 24.4, 35.2, 32.4,\n",
       "        32. , 33.2, 33.1, 29.1, 35.1, 45.4, 35.4, 46. , 50. , 32.2, 22. ,\n",
       "        20.1, 23.2, 22.3, 24.8, 28.5, 37.3, 27.9, 23.9, 21.7, 28.6, 27.1,\n",
       "        20.3, 22.5, 29. , 24.8, 22. , 26.4, 33.1, 36.1, 28.4, 33.4, 28.2,\n",
       "        22.8, 20.3, 16.1, 22.1, 19.4, 21.6, 23.8, 16.2, 17.8, 19.8, 23.1,\n",
       "        21. , 23.8, 23.1, 20.4, 18.5, 25. , 24.6, 23. , 22.2, 19.3, 22.6,\n",
       "        19.8, 17.1, 19.4, 22.2, 20.7, 21.1, 19.5, 18.5, 20.6, 19. , 18.7,\n",
       "        32.7, 16.5, 23.9, 31.2, 17.5, 17.2, 23.1, 24.5, 26.6, 22.9, 24.1,\n",
       "        18.6, 30.1, 18.2, 20.6, 17.8, 21.7, 22.7, 22.6, 25. , 19.9, 20.8,\n",
       "        16.8, 21.9, 27.5, 21.9, 23.1, 50. , 50. , 50. , 50. , 50. , 13.8,\n",
       "        13.8, 15. , 13.9, 13.3, 13.1, 10.2, 10.4, 10.9, 11.3, 12.3,  8.8,\n",
       "         7.2, 10.5,  7.4, 10.2, 11.5, 15.1, 23.2,  9.7, 13.8, 12.7, 13.1,\n",
       "        12.5,  8.5,  5. ,  6.3,  5.6,  7.2, 12.1,  8.3,  8.5,  5. , 11.9,\n",
       "        27.9, 17.2, 27.5, 15. , 17.2, 17.9, 16.3,  7. ,  7.2,  7.5, 10.4,\n",
       "         8.8,  8.4, 16.7, 14.2, 20.8, 13.4, 11.7,  8.3, 10.2, 10.9, 11. ,\n",
       "         9.5, 14.5, 14.1, 16.1, 14.3, 11.7, 13.4,  9.6,  8.7,  8.4, 12.8,\n",
       "        10.5, 17.1, 18.4, 15.4, 10.8, 11.8, 14.9, 12.6, 14.1, 13. , 13.4,\n",
       "        15.2, 16.1, 17.8, 14.9, 14.1, 12.7, 13.5, 14.9, 20. , 16.4, 17.7,\n",
       "        19.5, 20.2, 21.4, 19.9, 19. , 19.1, 19.1, 20.1, 19.9, 19.6, 23.2,\n",
       "        29.8, 13.8, 13.3, 16.7, 12. , 14.6, 21.4, 23. , 23.7, 25. , 21.8,\n",
       "        20.6, 21.2, 19.1, 20.6, 15.2,  7. ,  8.1, 13.6, 20.1, 21.8, 24.5,\n",
       "        23.1, 19.7, 18.3, 21.2, 17.5, 16.8, 22.4, 20.6, 23.9, 22. , 11.9]])"
      ]
     },
     "execution_count": 13,
     "metadata": {},
     "output_type": "execute_result"
    }
   ],
   "source": [
    "Y.T"
   ]
  },
  {
   "cell_type": "code",
   "execution_count": 14,
   "metadata": {},
   "outputs": [],
   "source": [
    "X = data[:, 1:]\n",
    "X = add_beta_zero(X)"
   ]
  },
  {
   "cell_type": "code",
   "execution_count": 15,
   "metadata": {},
   "outputs": [
    {
     "data": {
      "text/plain": [
       "array([[1.0000e+00, 6.3200e-03, 1.8000e+01, ..., 5.3800e-01, 6.5750e+00,\n",
       "        4.0900e+00],\n",
       "       [1.0000e+00, 2.7310e-02, 0.0000e+00, ..., 4.6900e-01, 6.4210e+00,\n",
       "        4.9671e+00],\n",
       "       [1.0000e+00, 2.7290e-02, 0.0000e+00, ..., 4.6900e-01, 7.1850e+00,\n",
       "        4.9671e+00],\n",
       "       ...,\n",
       "       [1.0000e+00, 6.0760e-02, 0.0000e+00, ..., 5.7300e-01, 6.9760e+00,\n",
       "        2.1675e+00],\n",
       "       [1.0000e+00, 1.0959e-01, 0.0000e+00, ..., 5.7300e-01, 6.7940e+00,\n",
       "        2.3889e+00],\n",
       "       [1.0000e+00, 4.7410e-02, 0.0000e+00, ..., 5.7300e-01, 6.0300e+00,\n",
       "        2.5050e+00]])"
      ]
     },
     "execution_count": 15,
     "metadata": {},
     "output_type": "execute_result"
    }
   ],
   "source": [
    "X"
   ]
  },
  {
   "cell_type": "code",
   "execution_count": 16,
   "metadata": {},
   "outputs": [],
   "source": [
    "B = get_betas(X, Y)"
   ]
  },
  {
   "cell_type": "code",
   "execution_count": 17,
   "metadata": {},
   "outputs": [
    {
     "data": {
      "text/plain": [
       "array([[ -3.65580429],\n",
       "       [ -0.2163955 ],\n",
       "       [  0.0737306 ],\n",
       "       [  4.41245058],\n",
       "       [-25.46844878],\n",
       "       [  7.14320155],\n",
       "       [ -1.30108768]])"
      ]
     },
     "execution_count": 17,
     "metadata": {},
     "output_type": "execute_result"
    }
   ],
   "source": [
    "B"
   ]
  },
  {
   "cell_type": "code",
   "execution_count": 18,
   "metadata": {},
   "outputs": [],
   "source": [
    "result = ' '.join(map(str, map(lambda x: round(x[0], 4), B)))"
   ]
  },
  {
   "cell_type": "code",
   "execution_count": 19,
   "metadata": {},
   "outputs": [
    {
     "data": {
      "text/plain": [
       "'-3.6558 -0.2164 0.0737 4.4125 -25.4684 7.1432 -1.3011'"
      ]
     },
     "execution_count": 19,
     "metadata": {},
     "output_type": "execute_result"
    }
   ],
   "source": [
    "result"
   ]
  },
  {
   "cell_type": "markdown",
   "metadata": {},
   "source": [
    "итоговый код:"
   ]
  },
  {
   "cell_type": "code",
   "execution_count": 20,
   "metadata": {},
   "outputs": [
    {
     "name": "stdout",
     "output_type": "stream",
     "text": [
      "-3.6558 -0.2164 0.0737 4.4125 -25.4684 7.1432 -1.3011\n"
     ]
    }
   ],
   "source": [
    "import numpy as np\n",
    "from urllib import request\n",
    "\n",
    "\n",
    "def add_beta_zero(B):\n",
    "    return np.hstack([np.ones((len(B), 1)), B])\n",
    "\n",
    "def get_betas(X, Y):\n",
    "    return np.dot(np.linalg.inv(np.dot(X.T, X)), X.T @ Y)\n",
    "\n",
    "\n",
    "#fname = input()\n",
    "fname = 'https://stepic.org/media/attachments/lesson/16462/boston_houses.csv'\n",
    "\n",
    "f = request.urlopen(fname)\n",
    "data = np.loadtxt(f, delimiter=',', skiprows=1)\n",
    "\n",
    "Y = data[:, 0].reshape(-1, 1)\n",
    "X = add_beta_zero(data[:, 1:])\n",
    "B = get_betas(X, Y)\n",
    "result = ' '.join(map(str, map(lambda x: round(x[0], 4), B)))\n",
    "print(result)"
   ]
  }
 ],
 "metadata": {
  "kernelspec": {
   "display_name": "Python 3",
   "language": "python",
   "name": "python3"
  },
  "language_info": {
   "codemirror_mode": {
    "name": "ipython",
    "version": 3
   },
   "file_extension": ".py",
   "mimetype": "text/x-python",
   "name": "python",
   "nbconvert_exporter": "python",
   "pygments_lexer": "ipython3",
   "version": "3.7.3"
  }
 },
 "nbformat": 4,
 "nbformat_minor": 2
}
